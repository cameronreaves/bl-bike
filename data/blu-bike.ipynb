{
 "cells": [
  {
   "cell_type": "code",
   "execution_count": 1,
   "metadata": {},
   "outputs": [],
   "source": [
    "#pip install pyjanitor"
   ]
  },
  {
   "cell_type": "code",
   "execution_count": 5,
   "metadata": {},
   "outputs": [],
   "source": [
    "import pandas as pd\n",
    "import matplotlib.pyplot as plot\n",
    "import janitor as jtr"
   ]
  },
  {
   "cell_type": "code",
   "execution_count": 6,
   "metadata": {},
   "outputs": [
    {
     "data": {
      "text/html": [
       "<div>\n",
       "<style scoped>\n",
       "    .dataframe tbody tr th:only-of-type {\n",
       "        vertical-align: middle;\n",
       "    }\n",
       "\n",
       "    .dataframe tbody tr th {\n",
       "        vertical-align: top;\n",
       "    }\n",
       "\n",
       "    .dataframe thead th {\n",
       "        text-align: right;\n",
       "    }\n",
       "</style>\n",
       "<table border=\"1\" class=\"dataframe\">\n",
       "  <thead>\n",
       "    <tr style=\"text-align: right;\">\n",
       "      <th></th>\n",
       "      <th>tripduration</th>\n",
       "      <th>starttime</th>\n",
       "      <th>stoptime</th>\n",
       "      <th>start_station_id</th>\n",
       "      <th>start_station_name</th>\n",
       "      <th>start_station_latitude</th>\n",
       "      <th>start_station_longitude</th>\n",
       "      <th>end_station_id</th>\n",
       "      <th>end_station_name</th>\n",
       "      <th>end_station_latitude</th>\n",
       "      <th>end_station_longitude</th>\n",
       "      <th>bikeid</th>\n",
       "      <th>usertype</th>\n",
       "      <th>postal_code</th>\n",
       "    </tr>\n",
       "  </thead>\n",
       "  <tbody>\n",
       "    <tr>\n",
       "      <td>0</td>\n",
       "      <td>1160</td>\n",
       "      <td>2020-06-01 00:00:25.6240</td>\n",
       "      <td>2020-06-01 00:19:45.7010</td>\n",
       "      <td>192</td>\n",
       "      <td>Purchase St at Pearl St</td>\n",
       "      <td>42.354659</td>\n",
       "      <td>-71.053181</td>\n",
       "      <td>366</td>\n",
       "      <td>Broadway T Stop</td>\n",
       "      <td>42.342781</td>\n",
       "      <td>-71.057473</td>\n",
       "      <td>2831</td>\n",
       "      <td>Customer</td>\n",
       "      <td>NaN</td>\n",
       "    </tr>\n",
       "    <tr>\n",
       "      <td>1</td>\n",
       "      <td>1419</td>\n",
       "      <td>2020-06-01 00:01:09.3800</td>\n",
       "      <td>2020-06-01 00:24:48.9520</td>\n",
       "      <td>355</td>\n",
       "      <td>Bennington St at Constitution Beach</td>\n",
       "      <td>42.385224</td>\n",
       "      <td>-71.010631</td>\n",
       "      <td>355</td>\n",
       "      <td>Bennington St at Constitution Beach</td>\n",
       "      <td>42.385224</td>\n",
       "      <td>-71.010631</td>\n",
       "      <td>5696</td>\n",
       "      <td>Customer</td>\n",
       "      <td>02128</td>\n",
       "    </tr>\n",
       "    <tr>\n",
       "      <td>2</td>\n",
       "      <td>1093</td>\n",
       "      <td>2020-06-01 00:01:29.4790</td>\n",
       "      <td>2020-06-01 00:19:43.3530</td>\n",
       "      <td>131</td>\n",
       "      <td>Jackson Square T Stop</td>\n",
       "      <td>42.322931</td>\n",
       "      <td>-71.100141</td>\n",
       "      <td>331</td>\n",
       "      <td>Huntington Ave at Mass Art</td>\n",
       "      <td>42.336586</td>\n",
       "      <td>-71.098870</td>\n",
       "      <td>3922</td>\n",
       "      <td>Subscriber</td>\n",
       "      <td>10570</td>\n",
       "    </tr>\n",
       "    <tr>\n",
       "      <td>3</td>\n",
       "      <td>1067</td>\n",
       "      <td>2020-06-01 00:01:35.8540</td>\n",
       "      <td>2020-06-01 00:19:23.3250</td>\n",
       "      <td>131</td>\n",
       "      <td>Jackson Square T Stop</td>\n",
       "      <td>42.322931</td>\n",
       "      <td>-71.100141</td>\n",
       "      <td>331</td>\n",
       "      <td>Huntington Ave at Mass Art</td>\n",
       "      <td>42.336586</td>\n",
       "      <td>-71.098870</td>\n",
       "      <td>3361</td>\n",
       "      <td>Subscriber</td>\n",
       "      <td>10570</td>\n",
       "    </tr>\n",
       "    <tr>\n",
       "      <td>4</td>\n",
       "      <td>1391</td>\n",
       "      <td>2020-06-01 00:01:51.0390</td>\n",
       "      <td>2020-06-01 00:25:02.8460</td>\n",
       "      <td>355</td>\n",
       "      <td>Bennington St at Constitution Beach</td>\n",
       "      <td>42.385224</td>\n",
       "      <td>-71.010631</td>\n",
       "      <td>355</td>\n",
       "      <td>Bennington St at Constitution Beach</td>\n",
       "      <td>42.385224</td>\n",
       "      <td>-71.010631</td>\n",
       "      <td>3621</td>\n",
       "      <td>Customer</td>\n",
       "      <td>01902</td>\n",
       "    </tr>\n",
       "  </tbody>\n",
       "</table>\n",
       "</div>"
      ],
      "text/plain": [
       "   tripduration                 starttime                  stoptime  \\\n",
       "0          1160  2020-06-01 00:00:25.6240  2020-06-01 00:19:45.7010   \n",
       "1          1419  2020-06-01 00:01:09.3800  2020-06-01 00:24:48.9520   \n",
       "2          1093  2020-06-01 00:01:29.4790  2020-06-01 00:19:43.3530   \n",
       "3          1067  2020-06-01 00:01:35.8540  2020-06-01 00:19:23.3250   \n",
       "4          1391  2020-06-01 00:01:51.0390  2020-06-01 00:25:02.8460   \n",
       "\n",
       "   start_station_id                   start_station_name  \\\n",
       "0               192              Purchase St at Pearl St   \n",
       "1               355  Bennington St at Constitution Beach   \n",
       "2               131                Jackson Square T Stop   \n",
       "3               131                Jackson Square T Stop   \n",
       "4               355  Bennington St at Constitution Beach   \n",
       "\n",
       "   start_station_latitude  start_station_longitude  end_station_id  \\\n",
       "0               42.354659               -71.053181             366   \n",
       "1               42.385224               -71.010631             355   \n",
       "2               42.322931               -71.100141             331   \n",
       "3               42.322931               -71.100141             331   \n",
       "4               42.385224               -71.010631             355   \n",
       "\n",
       "                      end_station_name  end_station_latitude  \\\n",
       "0                      Broadway T Stop             42.342781   \n",
       "1  Bennington St at Constitution Beach             42.385224   \n",
       "2           Huntington Ave at Mass Art             42.336586   \n",
       "3           Huntington Ave at Mass Art             42.336586   \n",
       "4  Bennington St at Constitution Beach             42.385224   \n",
       "\n",
       "   end_station_longitude  bikeid    usertype postal_code  \n",
       "0             -71.057473    2831    Customer         NaN  \n",
       "1             -71.010631    5696    Customer       02128  \n",
       "2             -71.098870    3922  Subscriber       10570  \n",
       "3             -71.098870    3361  Subscriber       10570  \n",
       "4             -71.010631    3621    Customer       01902  "
      ]
     },
     "execution_count": 6,
     "metadata": {},
     "output_type": "execute_result"
    }
   ],
   "source": [
    "bbike = pd.read_csv('202006-bluebikes-tripdata.csv')\n",
    "bbike = jtr.clean_names(bbike)\n",
    "bbike.head()"
   ]
  },
  {
   "cell_type": "markdown",
   "metadata": {},
   "source": [
    "    what are the most popular start or stations? the stations that have the most trips to and from."
   ]
  },
  {
   "cell_type": "code",
   "execution_count": 8,
   "metadata": {},
   "outputs": [
    {
     "data": {
      "text/plain": [
       "60     3689\n",
       "68     2596\n",
       "47     2511\n",
       "46     2420\n",
       "53     2326\n",
       "       ... \n",
       "255      20\n",
       "388      17\n",
       "448      17\n",
       "317       2\n",
       "1         1\n",
       "Name: start_station_id, Length: 334, dtype: int64"
      ]
     },
     "execution_count": 8,
     "metadata": {},
     "output_type": "execute_result"
    }
   ],
   "source": [
    "bbike['start_station_id'].value_counts()"
   ]
  },
  {
   "cell_type": "code",
   "execution_count": 7,
   "metadata": {},
   "outputs": [
    {
     "data": {
      "text/plain": [
       "60     3714\n",
       "68     2682\n",
       "47     2465\n",
       "46     2412\n",
       "53     2320\n",
       "       ... \n",
       "255      26\n",
       "388      23\n",
       "448      17\n",
       "447      14\n",
       "317       2\n",
       "Name: end_station_id, Length: 334, dtype: int64"
      ]
     },
     "execution_count": 7,
     "metadata": {},
     "output_type": "execute_result"
    }
   ],
   "source": [
    "bbike['end_station_id'].value_counts()"
   ]
  },
  {
   "cell_type": "code",
   "execution_count": 10,
   "metadata": {},
   "outputs": [
    {
     "data": {
      "text/plain": [
       "197    Charles Circle - Charles St at Cambridge St\n",
       "Name: start_station_name, dtype: object"
      ]
     },
     "execution_count": 10,
     "metadata": {},
     "output_type": "execute_result"
    }
   ],
   "source": [
    "bbike['start_station_name'][bbike['start_station_id'] == 60].head(1)"
   ]
  },
  {
   "cell_type": "markdown",
   "metadata": {},
   "source": [
    "It seems that the most popular end and start stations are the same which make sense. What are the most popular combinations of start and end stations?"
   ]
  },
  {
   "cell_type": "code",
   "execution_count": 12,
   "metadata": {},
   "outputs": [
    {
     "data": {
      "text/plain": [
       "60     392\n",
       "53     111\n",
       "116     75\n",
       "342     72\n",
       "58      69\n",
       "      ... \n",
       "109      1\n",
       "138      1\n",
       "131      1\n",
       "137      1\n",
       "441      1\n",
       "Name: end_station_id, Length: 234, dtype: int64"
      ]
     },
     "execution_count": 12,
     "metadata": {},
     "output_type": "execute_result"
    }
   ],
   "source": [
    "bbike['end_station_id'][bbike['start_station_id'] == 60].value_counts()"
   ]
  },
  {
   "cell_type": "code",
   "execution_count": 51,
   "metadata": {},
   "outputs": [],
   "source": [
    "top = bbike['start_station_id'].value_counts().head().index.tolist()"
   ]
  },
  {
   "cell_type": "code",
   "execution_count": 52,
   "metadata": {},
   "outputs": [],
   "source": [
    "# takes start station id, returns list of top end stations \n",
    "def top_end_station(st_id):\n",
    "    return bbike['end_station_id'][bbike['start_station_id'] == st_id].value_counts().head().index.tolist()"
   ]
  },
  {
   "cell_type": "code",
   "execution_count": 68,
   "metadata": {},
   "outputs": [
    {
     "name": "stdout",
     "output_type": "stream",
     "text": [
      "[[60, 53, 116, 342, 58], [178, 68, 179, 67, 107], [47, 119, 157, 121, 24], [46, 342, 60, 53, 27], [53, 60, 68, 159, 46]]\n"
     ]
    }
   ],
   "source": [
    "tops = map(top_end_station, top)\n",
    "tops = [*tops]"
   ]
  },
  {
   "cell_type": "code",
   "execution_count": 71,
   "metadata": {},
   "outputs": [],
   "source": [
    "top_dic = dict(zip(top,tops))"
   ]
  },
  {
   "cell_type": "code",
   "execution_count": 72,
   "metadata": {},
   "outputs": [
    {
     "data": {
      "text/plain": [
       "{60: [60, 53, 116, 342, 58],\n",
       " 68: [178, 68, 179, 67, 107],\n",
       " 47: [47, 119, 157, 121, 24],\n",
       " 46: [46, 342, 60, 53, 27],\n",
       " 53: [53, 60, 68, 159, 46]}"
      ]
     },
     "execution_count": 72,
     "metadata": {},
     "output_type": "execute_result"
    }
   ],
   "source": [
    "top_dic"
   ]
  },
  {
   "cell_type": "markdown",
   "metadata": {},
   "source": [
    "Machine Learning Problem: Can I predict where the user most likely go next, so that I can send the user google map directions directly to their phone?"
   ]
  },
  {
   "cell_type": "code",
   "execution_count": null,
   "metadata": {},
   "outputs": [],
   "source": []
  }
 ],
 "metadata": {
  "kernelspec": {
   "display_name": "Python 3",
   "language": "python",
   "name": "python3"
  },
  "language_info": {
   "codemirror_mode": {
    "name": "ipython",
    "version": 3
   },
   "file_extension": ".py",
   "mimetype": "text/x-python",
   "name": "python",
   "nbconvert_exporter": "python",
   "pygments_lexer": "ipython3",
   "version": "3.7.4"
  }
 },
 "nbformat": 4,
 "nbformat_minor": 2
}
